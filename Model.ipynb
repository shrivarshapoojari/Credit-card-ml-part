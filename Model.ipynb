{
 "cells": [
  {
   "cell_type": "code",
   "execution_count": 6,
   "id": "0e2bf60e-f87f-46e6-85c7-41599d549d2e",
   "metadata": {
    "tags": []
   },
   "outputs": [],
   "source": [
    "import pandas as pd\n",
    "import numpy as np\n",
    "import pickle"
   ]
  },
  {
   "cell_type": "code",
   "execution_count": 7,
   "id": "6d44d256-1d73-4bd4-95ca-bb7f9f1785f6",
   "metadata": {
    "tags": []
   },
   "outputs": [],
   "source": [
    "df=pd.read_csv(\"Balanced_Data.csv\")"
   ]
  },
  {
   "cell_type": "code",
   "execution_count": 8,
   "id": "541bde18-39c9-4b05-95d5-a252d96f07df",
   "metadata": {
    "tags": []
   },
   "outputs": [
    {
     "data": {
      "text/plain": [
       "(44366, 25)"
      ]
     },
     "execution_count": 8,
     "metadata": {},
     "output_type": "execute_result"
    }
   ],
   "source": [
    "df.shape"
   ]
  },
  {
   "cell_type": "code",
   "execution_count": 9,
   "id": "e8f8077a-2987-4018-b8a4-0fc77da297f6",
   "metadata": {
    "tags": []
   },
   "outputs": [
    {
     "data": {
      "text/html": [
       "<div>\n",
       "<style scoped>\n",
       "    .dataframe tbody tr th:only-of-type {\n",
       "        vertical-align: middle;\n",
       "    }\n",
       "\n",
       "    .dataframe tbody tr th {\n",
       "        vertical-align: top;\n",
       "    }\n",
       "\n",
       "    .dataframe thead th {\n",
       "        text-align: right;\n",
       "    }\n",
       "</style>\n",
       "<table border=\"1\" class=\"dataframe\">\n",
       "  <thead>\n",
       "    <tr style=\"text-align: right;\">\n",
       "      <th></th>\n",
       "      <th>Unnamed: 0</th>\n",
       "      <th>LIMIT_BAL</th>\n",
       "      <th>SEX</th>\n",
       "      <th>EDUCATION</th>\n",
       "      <th>MARRIAGE</th>\n",
       "      <th>AGE</th>\n",
       "      <th>PAY_0</th>\n",
       "      <th>PAY_2</th>\n",
       "      <th>PAY_3</th>\n",
       "      <th>PAY_4</th>\n",
       "      <th>...</th>\n",
       "      <th>BILL_AMT4</th>\n",
       "      <th>BILL_AMT5</th>\n",
       "      <th>BILL_AMT6</th>\n",
       "      <th>PAY_AMT1</th>\n",
       "      <th>PAY_AMT2</th>\n",
       "      <th>PAY_AMT3</th>\n",
       "      <th>PAY_AMT4</th>\n",
       "      <th>PAY_AMT5</th>\n",
       "      <th>PAY_AMT6</th>\n",
       "      <th>default</th>\n",
       "    </tr>\n",
       "  </thead>\n",
       "  <tbody>\n",
       "    <tr>\n",
       "      <th>0</th>\n",
       "      <td>0</td>\n",
       "      <td>20000</td>\n",
       "      <td>2</td>\n",
       "      <td>3</td>\n",
       "      <td>1</td>\n",
       "      <td>24</td>\n",
       "      <td>2</td>\n",
       "      <td>2</td>\n",
       "      <td>-1</td>\n",
       "      <td>-1</td>\n",
       "      <td>...</td>\n",
       "      <td>0</td>\n",
       "      <td>0</td>\n",
       "      <td>0</td>\n",
       "      <td>0</td>\n",
       "      <td>689</td>\n",
       "      <td>0</td>\n",
       "      <td>0</td>\n",
       "      <td>0</td>\n",
       "      <td>0</td>\n",
       "      <td>1</td>\n",
       "    </tr>\n",
       "    <tr>\n",
       "      <th>1</th>\n",
       "      <td>1</td>\n",
       "      <td>120000</td>\n",
       "      <td>2</td>\n",
       "      <td>3</td>\n",
       "      <td>2</td>\n",
       "      <td>26</td>\n",
       "      <td>-1</td>\n",
       "      <td>2</td>\n",
       "      <td>0</td>\n",
       "      <td>0</td>\n",
       "      <td>...</td>\n",
       "      <td>3272</td>\n",
       "      <td>3455</td>\n",
       "      <td>3261</td>\n",
       "      <td>0</td>\n",
       "      <td>1000</td>\n",
       "      <td>1000</td>\n",
       "      <td>1000</td>\n",
       "      <td>0</td>\n",
       "      <td>2000</td>\n",
       "      <td>1</td>\n",
       "    </tr>\n",
       "    <tr>\n",
       "      <th>2</th>\n",
       "      <td>2</td>\n",
       "      <td>90000</td>\n",
       "      <td>2</td>\n",
       "      <td>3</td>\n",
       "      <td>2</td>\n",
       "      <td>34</td>\n",
       "      <td>0</td>\n",
       "      <td>0</td>\n",
       "      <td>0</td>\n",
       "      <td>0</td>\n",
       "      <td>...</td>\n",
       "      <td>14331</td>\n",
       "      <td>14948</td>\n",
       "      <td>15549</td>\n",
       "      <td>1518</td>\n",
       "      <td>1500</td>\n",
       "      <td>1000</td>\n",
       "      <td>1000</td>\n",
       "      <td>1000</td>\n",
       "      <td>5000</td>\n",
       "      <td>0</td>\n",
       "    </tr>\n",
       "    <tr>\n",
       "      <th>3</th>\n",
       "      <td>3</td>\n",
       "      <td>50000</td>\n",
       "      <td>2</td>\n",
       "      <td>3</td>\n",
       "      <td>1</td>\n",
       "      <td>37</td>\n",
       "      <td>0</td>\n",
       "      <td>0</td>\n",
       "      <td>0</td>\n",
       "      <td>0</td>\n",
       "      <td>...</td>\n",
       "      <td>28314</td>\n",
       "      <td>28959</td>\n",
       "      <td>29547</td>\n",
       "      <td>2000</td>\n",
       "      <td>2019</td>\n",
       "      <td>1200</td>\n",
       "      <td>1100</td>\n",
       "      <td>1069</td>\n",
       "      <td>1000</td>\n",
       "      <td>0</td>\n",
       "    </tr>\n",
       "    <tr>\n",
       "      <th>4</th>\n",
       "      <td>4</td>\n",
       "      <td>50000</td>\n",
       "      <td>1</td>\n",
       "      <td>3</td>\n",
       "      <td>1</td>\n",
       "      <td>57</td>\n",
       "      <td>-1</td>\n",
       "      <td>0</td>\n",
       "      <td>-1</td>\n",
       "      <td>0</td>\n",
       "      <td>...</td>\n",
       "      <td>20940</td>\n",
       "      <td>19146</td>\n",
       "      <td>19131</td>\n",
       "      <td>2000</td>\n",
       "      <td>36681</td>\n",
       "      <td>10000</td>\n",
       "      <td>9000</td>\n",
       "      <td>689</td>\n",
       "      <td>679</td>\n",
       "      <td>0</td>\n",
       "    </tr>\n",
       "  </tbody>\n",
       "</table>\n",
       "<p>5 rows × 25 columns</p>\n",
       "</div>"
      ],
      "text/plain": [
       "   Unnamed: 0  LIMIT_BAL  SEX  EDUCATION  MARRIAGE  AGE  PAY_0  PAY_2  PAY_3  \\\n",
       "0           0      20000    2          3         1   24      2      2     -1   \n",
       "1           1     120000    2          3         2   26     -1      2      0   \n",
       "2           2      90000    2          3         2   34      0      0      0   \n",
       "3           3      50000    2          3         1   37      0      0      0   \n",
       "4           4      50000    1          3         1   57     -1      0     -1   \n",
       "\n",
       "   PAY_4  ...  BILL_AMT4  BILL_AMT5  BILL_AMT6  PAY_AMT1  PAY_AMT2  PAY_AMT3  \\\n",
       "0     -1  ...          0          0          0         0       689         0   \n",
       "1      0  ...       3272       3455       3261         0      1000      1000   \n",
       "2      0  ...      14331      14948      15549      1518      1500      1000   \n",
       "3      0  ...      28314      28959      29547      2000      2019      1200   \n",
       "4      0  ...      20940      19146      19131      2000     36681     10000   \n",
       "\n",
       "   PAY_AMT4  PAY_AMT5  PAY_AMT6  default  \n",
       "0         0         0         0        1  \n",
       "1      1000         0      2000        1  \n",
       "2      1000      1000      5000        0  \n",
       "3      1100      1069      1000        0  \n",
       "4      9000       689       679        0  \n",
       "\n",
       "[5 rows x 25 columns]"
      ]
     },
     "execution_count": 9,
     "metadata": {},
     "output_type": "execute_result"
    }
   ],
   "source": [
    "df.head()"
   ]
  },
  {
   "cell_type": "code",
   "execution_count": 10,
   "id": "e630ed1d-ab1d-4a5a-969a-847d834d041c",
   "metadata": {
    "tags": []
   },
   "outputs": [],
   "source": [
    "df.drop('Unnamed: 0',axis=1,inplace=True)"
   ]
  },
  {
   "cell_type": "code",
   "execution_count": 60,
   "id": "4de7fae7-ce37-4483-a875-fd240cb44e92",
   "metadata": {
    "tags": []
   },
   "outputs": [],
   "source": [
    "X=df.drop('default',axis=1)"
   ]
  },
  {
   "cell_type": "code",
   "execution_count": 61,
   "id": "ade0fd46-3770-43d7-9484-723aff68363b",
   "metadata": {
    "tags": []
   },
   "outputs": [
    {
     "data": {
      "text/plain": [
       "(44366, 24)"
      ]
     },
     "execution_count": 61,
     "metadata": {},
     "output_type": "execute_result"
    }
   ],
   "source": [
    "df.shape"
   ]
  },
  {
   "cell_type": "code",
   "execution_count": 62,
   "id": "5b0b2a1e-6ab4-40d7-b0c7-d307c2c2e7a3",
   "metadata": {
    "tags": []
   },
   "outputs": [],
   "source": [
    "y=df['default']"
   ]
  },
  {
   "cell_type": "code",
   "execution_count": 63,
   "id": "2cca9a02-c1d4-49b1-96b6-a8554fef8083",
   "metadata": {
    "tags": []
   },
   "outputs": [
    {
     "data": {
      "text/plain": [
       "default\n",
       "1    22183\n",
       "0    22183\n",
       "Name: count, dtype: int64"
      ]
     },
     "execution_count": 63,
     "metadata": {},
     "output_type": "execute_result"
    }
   ],
   "source": [
    "y.value_counts()"
   ]
  },
  {
   "cell_type": "code",
   "execution_count": 64,
   "id": "8a36bfd1-9924-4aa8-9790-e2fe31e8adbb",
   "metadata": {
    "tags": []
   },
   "outputs": [
    {
     "data": {
      "text/html": [
       "<div>\n",
       "<style scoped>\n",
       "    .dataframe tbody tr th:only-of-type {\n",
       "        vertical-align: middle;\n",
       "    }\n",
       "\n",
       "    .dataframe tbody tr th {\n",
       "        vertical-align: top;\n",
       "    }\n",
       "\n",
       "    .dataframe thead th {\n",
       "        text-align: right;\n",
       "    }\n",
       "</style>\n",
       "<table border=\"1\" class=\"dataframe\">\n",
       "  <thead>\n",
       "    <tr style=\"text-align: right;\">\n",
       "      <th></th>\n",
       "      <th>LIMIT_BAL</th>\n",
       "      <th>SEX</th>\n",
       "      <th>EDUCATION</th>\n",
       "      <th>MARRIAGE</th>\n",
       "      <th>AGE</th>\n",
       "      <th>PAY_0</th>\n",
       "      <th>PAY_2</th>\n",
       "      <th>PAY_3</th>\n",
       "      <th>PAY_4</th>\n",
       "      <th>PAY_5</th>\n",
       "      <th>PAY_6</th>\n",
       "      <th>BILL_AMT1</th>\n",
       "      <th>BILL_AMT2</th>\n",
       "      <th>BILL_AMT3</th>\n",
       "      <th>BILL_AMT4</th>\n",
       "      <th>BILL_AMT5</th>\n",
       "      <th>BILL_AMT6</th>\n",
       "      <th>PAY_AMT1</th>\n",
       "      <th>PAY_AMT2</th>\n",
       "      <th>PAY_AMT3</th>\n",
       "      <th>PAY_AMT4</th>\n",
       "      <th>PAY_AMT5</th>\n",
       "      <th>PAY_AMT6</th>\n",
       "      <th>default</th>\n",
       "    </tr>\n",
       "  </thead>\n",
       "  <tbody>\n",
       "    <tr>\n",
       "      <th>0</th>\n",
       "      <td>20000</td>\n",
       "      <td>2</td>\n",
       "      <td>3</td>\n",
       "      <td>1</td>\n",
       "      <td>24</td>\n",
       "      <td>2</td>\n",
       "      <td>2</td>\n",
       "      <td>-1</td>\n",
       "      <td>-1</td>\n",
       "      <td>-2</td>\n",
       "      <td>-2</td>\n",
       "      <td>3913</td>\n",
       "      <td>3102</td>\n",
       "      <td>689</td>\n",
       "      <td>0</td>\n",
       "      <td>0</td>\n",
       "      <td>0</td>\n",
       "      <td>0</td>\n",
       "      <td>689</td>\n",
       "      <td>0</td>\n",
       "      <td>0</td>\n",
       "      <td>0</td>\n",
       "      <td>0</td>\n",
       "      <td>1</td>\n",
       "    </tr>\n",
       "    <tr>\n",
       "      <th>1</th>\n",
       "      <td>120000</td>\n",
       "      <td>2</td>\n",
       "      <td>3</td>\n",
       "      <td>2</td>\n",
       "      <td>26</td>\n",
       "      <td>-1</td>\n",
       "      <td>2</td>\n",
       "      <td>0</td>\n",
       "      <td>0</td>\n",
       "      <td>0</td>\n",
       "      <td>2</td>\n",
       "      <td>2682</td>\n",
       "      <td>1725</td>\n",
       "      <td>2682</td>\n",
       "      <td>3272</td>\n",
       "      <td>3455</td>\n",
       "      <td>3261</td>\n",
       "      <td>0</td>\n",
       "      <td>1000</td>\n",
       "      <td>1000</td>\n",
       "      <td>1000</td>\n",
       "      <td>0</td>\n",
       "      <td>2000</td>\n",
       "      <td>1</td>\n",
       "    </tr>\n",
       "    <tr>\n",
       "      <th>12</th>\n",
       "      <td>70000</td>\n",
       "      <td>1</td>\n",
       "      <td>3</td>\n",
       "      <td>2</td>\n",
       "      <td>30</td>\n",
       "      <td>1</td>\n",
       "      <td>2</td>\n",
       "      <td>2</td>\n",
       "      <td>0</td>\n",
       "      <td>0</td>\n",
       "      <td>2</td>\n",
       "      <td>65802</td>\n",
       "      <td>67369</td>\n",
       "      <td>65701</td>\n",
       "      <td>66782</td>\n",
       "      <td>36137</td>\n",
       "      <td>36894</td>\n",
       "      <td>3200</td>\n",
       "      <td>0</td>\n",
       "      <td>3000</td>\n",
       "      <td>3000</td>\n",
       "      <td>1500</td>\n",
       "      <td>0</td>\n",
       "      <td>1</td>\n",
       "    </tr>\n",
       "    <tr>\n",
       "      <th>15</th>\n",
       "      <td>20000</td>\n",
       "      <td>1</td>\n",
       "      <td>2</td>\n",
       "      <td>2</td>\n",
       "      <td>24</td>\n",
       "      <td>0</td>\n",
       "      <td>0</td>\n",
       "      <td>2</td>\n",
       "      <td>2</td>\n",
       "      <td>2</td>\n",
       "      <td>2</td>\n",
       "      <td>15376</td>\n",
       "      <td>18010</td>\n",
       "      <td>17428</td>\n",
       "      <td>18338</td>\n",
       "      <td>17905</td>\n",
       "      <td>19104</td>\n",
       "      <td>3200</td>\n",
       "      <td>0</td>\n",
       "      <td>1500</td>\n",
       "      <td>0</td>\n",
       "      <td>1650</td>\n",
       "      <td>0</td>\n",
       "      <td>1</td>\n",
       "    </tr>\n",
       "    <tr>\n",
       "      <th>20</th>\n",
       "      <td>120000</td>\n",
       "      <td>2</td>\n",
       "      <td>3</td>\n",
       "      <td>1</td>\n",
       "      <td>39</td>\n",
       "      <td>-1</td>\n",
       "      <td>-1</td>\n",
       "      <td>-1</td>\n",
       "      <td>-1</td>\n",
       "      <td>-1</td>\n",
       "      <td>-1</td>\n",
       "      <td>316</td>\n",
       "      <td>316</td>\n",
       "      <td>316</td>\n",
       "      <td>0</td>\n",
       "      <td>632</td>\n",
       "      <td>316</td>\n",
       "      <td>316</td>\n",
       "      <td>316</td>\n",
       "      <td>0</td>\n",
       "      <td>632</td>\n",
       "      <td>316</td>\n",
       "      <td>0</td>\n",
       "      <td>1</td>\n",
       "    </tr>\n",
       "  </tbody>\n",
       "</table>\n",
       "</div>"
      ],
      "text/plain": [
       "    LIMIT_BAL  SEX  EDUCATION  MARRIAGE  AGE  PAY_0  PAY_2  PAY_3  PAY_4  \\\n",
       "0       20000    2          3         1   24      2      2     -1     -1   \n",
       "1      120000    2          3         2   26     -1      2      0      0   \n",
       "12      70000    1          3         2   30      1      2      2      0   \n",
       "15      20000    1          2         2   24      0      0      2      2   \n",
       "20     120000    2          3         1   39     -1     -1     -1     -1   \n",
       "\n",
       "    PAY_5  PAY_6  BILL_AMT1  BILL_AMT2  BILL_AMT3  BILL_AMT4  BILL_AMT5  \\\n",
       "0      -2     -2       3913       3102        689          0          0   \n",
       "1       0      2       2682       1725       2682       3272       3455   \n",
       "12      0      2      65802      67369      65701      66782      36137   \n",
       "15      2      2      15376      18010      17428      18338      17905   \n",
       "20     -1     -1        316        316        316          0        632   \n",
       "\n",
       "    BILL_AMT6  PAY_AMT1  PAY_AMT2  PAY_AMT3  PAY_AMT4  PAY_AMT5  PAY_AMT6  \\\n",
       "0           0         0       689         0         0         0         0   \n",
       "1        3261         0      1000      1000      1000         0      2000   \n",
       "12      36894      3200         0      3000      3000      1500         0   \n",
       "15      19104      3200         0      1500         0      1650         0   \n",
       "20        316       316       316         0       632       316         0   \n",
       "\n",
       "    default  \n",
       "0         1  \n",
       "1         1  \n",
       "12        1  \n",
       "15        1  \n",
       "20        1  "
      ]
     },
     "execution_count": 64,
     "metadata": {},
     "output_type": "execute_result"
    }
   ],
   "source": [
    "pd.set_option('display.max_columns', None)\n",
    "df[df['default']==1].head()\n"
   ]
  },
  {
   "cell_type": "code",
   "execution_count": 65,
   "id": "1b7e78af-4bd7-4847-875d-1608775cebce",
   "metadata": {
    "tags": []
   },
   "outputs": [],
   "source": [
    "from sklearn.ensemble import AdaBoostClassifier\n",
    "from sklearn.ensemble import GradientBoostingClassifier\n",
    "from sklearn.tree import DecisionTreeClassifier\n",
    "from sklearn.svm import SVC"
   ]
  },
  {
   "cell_type": "code",
   "execution_count": 66,
   "id": "f3b75a29-a961-4239-b5ee-82e0c7e06bd4",
   "metadata": {
    "tags": []
   },
   "outputs": [],
   "source": [
    "import xgboost as xb"
   ]
  },
  {
   "cell_type": "code",
   "execution_count": 67,
   "id": "e4b470cc-0d37-448e-9c80-3caacd93e122",
   "metadata": {
    "tags": []
   },
   "outputs": [],
   "source": [
    "from sklearn.ensemble import RandomForestClassifier"
   ]
  },
  {
   "cell_type": "code",
   "execution_count": 68,
   "id": "3299d83e-06bc-4606-b15f-b71107e907d2",
   "metadata": {
    "tags": []
   },
   "outputs": [],
   "source": [
    "from sklearn.metrics import confusion_matrix, accuracy_score, classification_report"
   ]
  },
  {
   "cell_type": "code",
   "execution_count": 69,
   "id": "6ba1c386-1460-473d-83fe-250bbc6277a9",
   "metadata": {
    "tags": []
   },
   "outputs": [],
   "source": [
    "from sklearn.naive_bayes import GaussianNB"
   ]
  },
  {
   "cell_type": "code",
   "execution_count": 70,
   "id": "3f8e0740-9eff-4024-b443-cb124aa66b7d",
   "metadata": {
    "tags": []
   },
   "outputs": [],
   "source": [
    "models={\n",
    "         'Random_Forest':RandomForestClassifier(),\n",
    "         'Decision Tree':DecisionTreeClassifier(),\n",
    "         'SVC':SVC(),\n",
    "         'AdaBoost':AdaBoostClassifier(),\n",
    "          'GradientBoost':GradientBoostingClassifier(),\n",
    "         'Xgboost':xb.XGBClassifier()\n",
    "       \n",
    "         \n",
    "         \n",
    "\n",
    "\n",
    "\n",
    "}"
   ]
  },
  {
   "cell_type": "code",
   "execution_count": 71,
   "id": "82b246cb-b344-4168-bff8-2d81324413e7",
   "metadata": {
    "tags": []
   },
   "outputs": [],
   "source": [
    "def evaluate_model(X_train,y_train,X_test,y_test,models):\n",
    "    \n",
    "    report = {}\n",
    "    for i in range(len(models)):\n",
    "        model = list(models.values())[i]\n",
    "        # Train model\n",
    "        model.fit(X_train,y_train)\n",
    "\n",
    "            \n",
    "\n",
    "        # Predict Testing data\n",
    "        y_test_pred =model.predict(X_test)\n",
    "\n",
    "        # Get accuracy for test data prediction\n",
    "       \n",
    "        test_model_score = accuracy_score(y_test,y_test_pred)*100\n",
    "\n",
    "        report[list(models.keys())[i]] =  test_model_score\n",
    "            \n",
    "\n",
    "            \n",
    "    return report"
   ]
  },
  {
   "cell_type": "code",
   "execution_count": 72,
   "id": "9156f080-08b6-4725-a51e-8ce647b9461b",
   "metadata": {
    "tags": []
   },
   "outputs": [],
   "source": [
    "from sklearn.preprocessing import StandardScaler"
   ]
  },
  {
   "cell_type": "code",
   "execution_count": 73,
   "id": "76945279-ec78-4efd-9963-03f7bc6ec512",
   "metadata": {
    "tags": []
   },
   "outputs": [],
   "source": [
    "scaler=StandardScaler()"
   ]
  },
  {
   "cell_type": "code",
   "execution_count": 74,
   "id": "7cc75eb2-cda2-4e4c-bab8-18e19d07c0cc",
   "metadata": {
    "tags": []
   },
   "outputs": [],
   "source": [
    "from sklearn.model_selection import train_test_split"
   ]
  },
  {
   "cell_type": "code",
   "execution_count": 95,
   "id": "fa5bf1cd-d8b5-4655-8bff-e13844f15bc5",
   "metadata": {
    "tags": []
   },
   "outputs": [],
   "source": [
    "X_train,X_test,y_train,y_test=train_test_split(X,y,test_size=0.1,random_state=2)"
   ]
  },
  {
   "cell_type": "code",
   "execution_count": 96,
   "id": "a9b7c31d-057e-4739-b802-85a36593a3c4",
   "metadata": {
    "tags": []
   },
   "outputs": [
    {
     "data": {
      "text/html": [
       "<div>\n",
       "<style scoped>\n",
       "    .dataframe tbody tr th:only-of-type {\n",
       "        vertical-align: middle;\n",
       "    }\n",
       "\n",
       "    .dataframe tbody tr th {\n",
       "        vertical-align: top;\n",
       "    }\n",
       "\n",
       "    .dataframe thead th {\n",
       "        text-align: right;\n",
       "    }\n",
       "</style>\n",
       "<table border=\"1\" class=\"dataframe\">\n",
       "  <thead>\n",
       "    <tr style=\"text-align: right;\">\n",
       "      <th></th>\n",
       "      <th>LIMIT_BAL</th>\n",
       "      <th>SEX</th>\n",
       "      <th>EDUCATION</th>\n",
       "      <th>MARRIAGE</th>\n",
       "      <th>AGE</th>\n",
       "      <th>PAY_0</th>\n",
       "      <th>PAY_2</th>\n",
       "      <th>PAY_3</th>\n",
       "      <th>PAY_4</th>\n",
       "      <th>PAY_5</th>\n",
       "      <th>PAY_6</th>\n",
       "      <th>BILL_AMT1</th>\n",
       "      <th>BILL_AMT2</th>\n",
       "      <th>BILL_AMT3</th>\n",
       "      <th>BILL_AMT4</th>\n",
       "      <th>BILL_AMT5</th>\n",
       "      <th>BILL_AMT6</th>\n",
       "      <th>PAY_AMT1</th>\n",
       "      <th>PAY_AMT2</th>\n",
       "      <th>PAY_AMT3</th>\n",
       "      <th>PAY_AMT4</th>\n",
       "      <th>PAY_AMT5</th>\n",
       "      <th>PAY_AMT6</th>\n",
       "    </tr>\n",
       "  </thead>\n",
       "  <tbody>\n",
       "    <tr>\n",
       "      <th>1198</th>\n",
       "      <td>180000</td>\n",
       "      <td>2</td>\n",
       "      <td>3</td>\n",
       "      <td>2</td>\n",
       "      <td>32</td>\n",
       "      <td>0</td>\n",
       "      <td>0</td>\n",
       "      <td>0</td>\n",
       "      <td>0</td>\n",
       "      <td>0</td>\n",
       "      <td>0</td>\n",
       "      <td>20730</td>\n",
       "      <td>17107</td>\n",
       "      <td>35884</td>\n",
       "      <td>31057</td>\n",
       "      <td>29052</td>\n",
       "      <td>25933</td>\n",
       "      <td>1582</td>\n",
       "      <td>30000</td>\n",
       "      <td>1000</td>\n",
       "      <td>1000</td>\n",
       "      <td>1000</td>\n",
       "      <td>1000</td>\n",
       "    </tr>\n",
       "    <tr>\n",
       "      <th>12131</th>\n",
       "      <td>210000</td>\n",
       "      <td>2</td>\n",
       "      <td>2</td>\n",
       "      <td>1</td>\n",
       "      <td>36</td>\n",
       "      <td>-2</td>\n",
       "      <td>-2</td>\n",
       "      <td>-2</td>\n",
       "      <td>-2</td>\n",
       "      <td>-2</td>\n",
       "      <td>-2</td>\n",
       "      <td>167</td>\n",
       "      <td>0</td>\n",
       "      <td>0</td>\n",
       "      <td>0</td>\n",
       "      <td>0</td>\n",
       "      <td>0</td>\n",
       "      <td>0</td>\n",
       "      <td>0</td>\n",
       "      <td>0</td>\n",
       "      <td>0</td>\n",
       "      <td>0</td>\n",
       "      <td>0</td>\n",
       "    </tr>\n",
       "    <tr>\n",
       "      <th>30945</th>\n",
       "      <td>180000</td>\n",
       "      <td>2</td>\n",
       "      <td>2</td>\n",
       "      <td>1</td>\n",
       "      <td>31</td>\n",
       "      <td>-1</td>\n",
       "      <td>0</td>\n",
       "      <td>0</td>\n",
       "      <td>0</td>\n",
       "      <td>0</td>\n",
       "      <td>0</td>\n",
       "      <td>1525</td>\n",
       "      <td>1915</td>\n",
       "      <td>2625</td>\n",
       "      <td>1408</td>\n",
       "      <td>2173</td>\n",
       "      <td>1771</td>\n",
       "      <td>1722</td>\n",
       "      <td>2307</td>\n",
       "      <td>610</td>\n",
       "      <td>1341</td>\n",
       "      <td>922</td>\n",
       "      <td>1504</td>\n",
       "    </tr>\n",
       "    <tr>\n",
       "      <th>15997</th>\n",
       "      <td>300000</td>\n",
       "      <td>2</td>\n",
       "      <td>1</td>\n",
       "      <td>2</td>\n",
       "      <td>27</td>\n",
       "      <td>0</td>\n",
       "      <td>0</td>\n",
       "      <td>0</td>\n",
       "      <td>0</td>\n",
       "      <td>0</td>\n",
       "      <td>0</td>\n",
       "      <td>105786</td>\n",
       "      <td>113850</td>\n",
       "      <td>116918</td>\n",
       "      <td>119929</td>\n",
       "      <td>122914</td>\n",
       "      <td>125910</td>\n",
       "      <td>9000</td>\n",
       "      <td>4000</td>\n",
       "      <td>4000</td>\n",
       "      <td>4000</td>\n",
       "      <td>4000</td>\n",
       "      <td>4000</td>\n",
       "    </tr>\n",
       "    <tr>\n",
       "      <th>39087</th>\n",
       "      <td>30000</td>\n",
       "      <td>1</td>\n",
       "      <td>3</td>\n",
       "      <td>1</td>\n",
       "      <td>44</td>\n",
       "      <td>2</td>\n",
       "      <td>2</td>\n",
       "      <td>0</td>\n",
       "      <td>0</td>\n",
       "      <td>0</td>\n",
       "      <td>0</td>\n",
       "      <td>30142</td>\n",
       "      <td>28243</td>\n",
       "      <td>28051</td>\n",
       "      <td>28336</td>\n",
       "      <td>28593</td>\n",
       "      <td>24479</td>\n",
       "      <td>0</td>\n",
       "      <td>1955</td>\n",
       "      <td>1557</td>\n",
       "      <td>2674</td>\n",
       "      <td>2674</td>\n",
       "      <td>2853</td>\n",
       "    </tr>\n",
       "    <tr>\n",
       "      <th>...</th>\n",
       "      <td>...</td>\n",
       "      <td>...</td>\n",
       "      <td>...</td>\n",
       "      <td>...</td>\n",
       "      <td>...</td>\n",
       "      <td>...</td>\n",
       "      <td>...</td>\n",
       "      <td>...</td>\n",
       "      <td>...</td>\n",
       "      <td>...</td>\n",
       "      <td>...</td>\n",
       "      <td>...</td>\n",
       "      <td>...</td>\n",
       "      <td>...</td>\n",
       "      <td>...</td>\n",
       "      <td>...</td>\n",
       "      <td>...</td>\n",
       "      <td>...</td>\n",
       "      <td>...</td>\n",
       "      <td>...</td>\n",
       "      <td>...</td>\n",
       "      <td>...</td>\n",
       "      <td>...</td>\n",
       "    </tr>\n",
       "    <tr>\n",
       "      <th>31019</th>\n",
       "      <td>113412</td>\n",
       "      <td>2</td>\n",
       "      <td>3</td>\n",
       "      <td>1</td>\n",
       "      <td>39</td>\n",
       "      <td>2</td>\n",
       "      <td>2</td>\n",
       "      <td>2</td>\n",
       "      <td>2</td>\n",
       "      <td>2</td>\n",
       "      <td>2</td>\n",
       "      <td>24227</td>\n",
       "      <td>26509</td>\n",
       "      <td>25996</td>\n",
       "      <td>28731</td>\n",
       "      <td>28535</td>\n",
       "      <td>29435</td>\n",
       "      <td>2790</td>\n",
       "      <td>204</td>\n",
       "      <td>3278</td>\n",
       "      <td>511</td>\n",
       "      <td>1515</td>\n",
       "      <td>360</td>\n",
       "    </tr>\n",
       "    <tr>\n",
       "      <th>30280</th>\n",
       "      <td>100000</td>\n",
       "      <td>1</td>\n",
       "      <td>2</td>\n",
       "      <td>2</td>\n",
       "      <td>33</td>\n",
       "      <td>0</td>\n",
       "      <td>0</td>\n",
       "      <td>0</td>\n",
       "      <td>0</td>\n",
       "      <td>0</td>\n",
       "      <td>0</td>\n",
       "      <td>47962</td>\n",
       "      <td>48911</td>\n",
       "      <td>49542</td>\n",
       "      <td>51049</td>\n",
       "      <td>51709</td>\n",
       "      <td>52838</td>\n",
       "      <td>1800</td>\n",
       "      <td>1474</td>\n",
       "      <td>2330</td>\n",
       "      <td>1525</td>\n",
       "      <td>2077</td>\n",
       "      <td>1611</td>\n",
       "    </tr>\n",
       "    <tr>\n",
       "      <th>6637</th>\n",
       "      <td>120000</td>\n",
       "      <td>2</td>\n",
       "      <td>1</td>\n",
       "      <td>1</td>\n",
       "      <td>42</td>\n",
       "      <td>-1</td>\n",
       "      <td>-1</td>\n",
       "      <td>-1</td>\n",
       "      <td>0</td>\n",
       "      <td>-1</td>\n",
       "      <td>0</td>\n",
       "      <td>2207</td>\n",
       "      <td>263</td>\n",
       "      <td>4531</td>\n",
       "      <td>1211</td>\n",
       "      <td>4015</td>\n",
       "      <td>2042</td>\n",
       "      <td>263</td>\n",
       "      <td>4531</td>\n",
       "      <td>0</td>\n",
       "      <td>4015</td>\n",
       "      <td>0</td>\n",
       "      <td>1007</td>\n",
       "    </tr>\n",
       "    <tr>\n",
       "      <th>35343</th>\n",
       "      <td>200000</td>\n",
       "      <td>1</td>\n",
       "      <td>2</td>\n",
       "      <td>1</td>\n",
       "      <td>47</td>\n",
       "      <td>1</td>\n",
       "      <td>1</td>\n",
       "      <td>2</td>\n",
       "      <td>1</td>\n",
       "      <td>1</td>\n",
       "      <td>1</td>\n",
       "      <td>143309</td>\n",
       "      <td>147544</td>\n",
       "      <td>145180</td>\n",
       "      <td>139496</td>\n",
       "      <td>142418</td>\n",
       "      <td>144954</td>\n",
       "      <td>7380</td>\n",
       "      <td>5313</td>\n",
       "      <td>5127</td>\n",
       "      <td>5164</td>\n",
       "      <td>4888</td>\n",
       "      <td>5118</td>\n",
       "    </tr>\n",
       "    <tr>\n",
       "      <th>23720</th>\n",
       "      <td>110000</td>\n",
       "      <td>2</td>\n",
       "      <td>2</td>\n",
       "      <td>1</td>\n",
       "      <td>33</td>\n",
       "      <td>2</td>\n",
       "      <td>2</td>\n",
       "      <td>2</td>\n",
       "      <td>2</td>\n",
       "      <td>2</td>\n",
       "      <td>2</td>\n",
       "      <td>24178</td>\n",
       "      <td>25270</td>\n",
       "      <td>24669</td>\n",
       "      <td>26738</td>\n",
       "      <td>27201</td>\n",
       "      <td>26723</td>\n",
       "      <td>1700</td>\n",
       "      <td>0</td>\n",
       "      <td>2700</td>\n",
       "      <td>1100</td>\n",
       "      <td>0</td>\n",
       "      <td>875</td>\n",
       "    </tr>\n",
       "  </tbody>\n",
       "</table>\n",
       "<p>39929 rows × 23 columns</p>\n",
       "</div>"
      ],
      "text/plain": [
       "       LIMIT_BAL  SEX  EDUCATION  MARRIAGE  AGE  PAY_0  PAY_2  PAY_3  PAY_4  \\\n",
       "1198      180000    2          3         2   32      0      0      0      0   \n",
       "12131     210000    2          2         1   36     -2     -2     -2     -2   \n",
       "30945     180000    2          2         1   31     -1      0      0      0   \n",
       "15997     300000    2          1         2   27      0      0      0      0   \n",
       "39087      30000    1          3         1   44      2      2      0      0   \n",
       "...          ...  ...        ...       ...  ...    ...    ...    ...    ...   \n",
       "31019     113412    2          3         1   39      2      2      2      2   \n",
       "30280     100000    1          2         2   33      0      0      0      0   \n",
       "6637      120000    2          1         1   42     -1     -1     -1      0   \n",
       "35343     200000    1          2         1   47      1      1      2      1   \n",
       "23720     110000    2          2         1   33      2      2      2      2   \n",
       "\n",
       "       PAY_5  PAY_6  BILL_AMT1  BILL_AMT2  BILL_AMT3  BILL_AMT4  BILL_AMT5  \\\n",
       "1198       0      0      20730      17107      35884      31057      29052   \n",
       "12131     -2     -2        167          0          0          0          0   \n",
       "30945      0      0       1525       1915       2625       1408       2173   \n",
       "15997      0      0     105786     113850     116918     119929     122914   \n",
       "39087      0      0      30142      28243      28051      28336      28593   \n",
       "...      ...    ...        ...        ...        ...        ...        ...   \n",
       "31019      2      2      24227      26509      25996      28731      28535   \n",
       "30280      0      0      47962      48911      49542      51049      51709   \n",
       "6637      -1      0       2207        263       4531       1211       4015   \n",
       "35343      1      1     143309     147544     145180     139496     142418   \n",
       "23720      2      2      24178      25270      24669      26738      27201   \n",
       "\n",
       "       BILL_AMT6  PAY_AMT1  PAY_AMT2  PAY_AMT3  PAY_AMT4  PAY_AMT5  PAY_AMT6  \n",
       "1198       25933      1582     30000      1000      1000      1000      1000  \n",
       "12131          0         0         0         0         0         0         0  \n",
       "30945       1771      1722      2307       610      1341       922      1504  \n",
       "15997     125910      9000      4000      4000      4000      4000      4000  \n",
       "39087      24479         0      1955      1557      2674      2674      2853  \n",
       "...          ...       ...       ...       ...       ...       ...       ...  \n",
       "31019      29435      2790       204      3278       511      1515       360  \n",
       "30280      52838      1800      1474      2330      1525      2077      1611  \n",
       "6637        2042       263      4531         0      4015         0      1007  \n",
       "35343     144954      7380      5313      5127      5164      4888      5118  \n",
       "23720      26723      1700         0      2700      1100         0       875  \n",
       "\n",
       "[39929 rows x 23 columns]"
      ]
     },
     "execution_count": 96,
     "metadata": {},
     "output_type": "execute_result"
    }
   ],
   "source": [
    "X_train"
   ]
  },
  {
   "cell_type": "code",
   "execution_count": 97,
   "id": "d5ca39dd-45f9-40b4-8d13-3aabe9e2f145",
   "metadata": {
    "tags": []
   },
   "outputs": [],
   "source": [
    "X_train_scaled=scaler.fit_transform(X_train)"
   ]
  },
  {
   "cell_type": "code",
   "execution_count": 98,
   "id": "3a3eaebd-7caf-43ca-86bb-2fb3edb6191b",
   "metadata": {
    "tags": []
   },
   "outputs": [],
   "source": [
    "X_test_scaled=scaler.transform(X_test)\n"
   ]
  },
  {
   "cell_type": "code",
   "execution_count": 99,
   "id": "a7f4f2e0-6cd4-4f09-bd70-0a7dbcb01fcb",
   "metadata": {
    "tags": []
   },
   "outputs": [],
   "source": [
    "X_train_scaled=pd.DataFrame(X_train_scaled,columns=X_train.columns)"
   ]
  },
  {
   "cell_type": "code",
   "execution_count": 100,
   "id": "bec877a0-4695-4b5f-af06-39a34b867e68",
   "metadata": {
    "tags": []
   },
   "outputs": [
    {
     "data": {
      "text/html": [
       "<div>\n",
       "<style scoped>\n",
       "    .dataframe tbody tr th:only-of-type {\n",
       "        vertical-align: middle;\n",
       "    }\n",
       "\n",
       "    .dataframe tbody tr th {\n",
       "        vertical-align: top;\n",
       "    }\n",
       "\n",
       "    .dataframe thead th {\n",
       "        text-align: right;\n",
       "    }\n",
       "</style>\n",
       "<table border=\"1\" class=\"dataframe\">\n",
       "  <thead>\n",
       "    <tr style=\"text-align: right;\">\n",
       "      <th></th>\n",
       "      <th>LIMIT_BAL</th>\n",
       "      <th>SEX</th>\n",
       "      <th>EDUCATION</th>\n",
       "      <th>MARRIAGE</th>\n",
       "      <th>AGE</th>\n",
       "      <th>PAY_0</th>\n",
       "      <th>PAY_2</th>\n",
       "      <th>PAY_3</th>\n",
       "      <th>PAY_4</th>\n",
       "      <th>PAY_5</th>\n",
       "      <th>PAY_6</th>\n",
       "      <th>BILL_AMT1</th>\n",
       "      <th>BILL_AMT2</th>\n",
       "      <th>BILL_AMT3</th>\n",
       "      <th>BILL_AMT4</th>\n",
       "      <th>BILL_AMT5</th>\n",
       "      <th>BILL_AMT6</th>\n",
       "      <th>PAY_AMT1</th>\n",
       "      <th>PAY_AMT2</th>\n",
       "      <th>PAY_AMT3</th>\n",
       "      <th>PAY_AMT4</th>\n",
       "      <th>PAY_AMT5</th>\n",
       "      <th>PAY_AMT6</th>\n",
       "    </tr>\n",
       "  </thead>\n",
       "  <tbody>\n",
       "    <tr>\n",
       "      <th>0</th>\n",
       "      <td>0.192404</td>\n",
       "      <td>0.980088</td>\n",
       "      <td>1.077656</td>\n",
       "      <td>1.070728</td>\n",
       "      <td>-0.372275</td>\n",
       "      <td>-0.069388</td>\n",
       "      <td>0.087309</td>\n",
       "      <td>0.132304</td>\n",
       "      <td>0.193912</td>\n",
       "      <td>0.244187</td>\n",
       "      <td>0.260635</td>\n",
       "      <td>-0.405262</td>\n",
       "      <td>-0.444819</td>\n",
       "      <td>-0.151223</td>\n",
       "      <td>-0.182804</td>\n",
       "      <td>-0.179408</td>\n",
       "      <td>-0.214412</td>\n",
       "      <td>-0.228317</td>\n",
       "      <td>1.246455</td>\n",
       "      <td>-0.234463</td>\n",
       "      <td>-0.235300</td>\n",
       "      <td>-0.240250</td>\n",
       "      <td>-0.224049</td>\n",
       "    </tr>\n",
       "    <tr>\n",
       "      <th>1</th>\n",
       "      <td>0.434870</td>\n",
       "      <td>0.980088</td>\n",
       "      <td>-0.283700</td>\n",
       "      <td>-0.887998</td>\n",
       "      <td>0.106182</td>\n",
       "      <td>-2.070542</td>\n",
       "      <td>-1.754294</td>\n",
       "      <td>-1.723909</td>\n",
       "      <td>-1.734533</td>\n",
       "      <td>-1.738154</td>\n",
       "      <td>-1.675711</td>\n",
       "      <td>-0.689579</td>\n",
       "      <td>-0.688417</td>\n",
       "      <td>-0.677159</td>\n",
       "      <td>-0.671580</td>\n",
       "      <td>-0.663626</td>\n",
       "      <td>-0.655223</td>\n",
       "      <td>-0.338119</td>\n",
       "      <td>-0.249141</td>\n",
       "      <td>-0.302143</td>\n",
       "      <td>-0.309610</td>\n",
       "      <td>-0.317846</td>\n",
       "      <td>-0.288805</td>\n",
       "    </tr>\n",
       "    <tr>\n",
       "      <th>2</th>\n",
       "      <td>0.192404</td>\n",
       "      <td>0.980088</td>\n",
       "      <td>-0.283700</td>\n",
       "      <td>-0.887998</td>\n",
       "      <td>-0.491890</td>\n",
       "      <td>-1.069965</td>\n",
       "      <td>0.087309</td>\n",
       "      <td>0.132304</td>\n",
       "      <td>0.193912</td>\n",
       "      <td>0.244187</td>\n",
       "      <td>0.260635</td>\n",
       "      <td>-0.670802</td>\n",
       "      <td>-0.661148</td>\n",
       "      <td>-0.638686</td>\n",
       "      <td>-0.649421</td>\n",
       "      <td>-0.627408</td>\n",
       "      <td>-0.625119</td>\n",
       "      <td>-0.218600</td>\n",
       "      <td>-0.134129</td>\n",
       "      <td>-0.260858</td>\n",
       "      <td>-0.209960</td>\n",
       "      <td>-0.246302</td>\n",
       "      <td>-0.191412</td>\n",
       "    </tr>\n",
       "    <tr>\n",
       "      <th>3</th>\n",
       "      <td>1.162270</td>\n",
       "      <td>0.980088</td>\n",
       "      <td>-1.645055</td>\n",
       "      <td>1.070728</td>\n",
       "      <td>-0.970347</td>\n",
       "      <td>-0.069388</td>\n",
       "      <td>0.087309</td>\n",
       "      <td>0.132304</td>\n",
       "      <td>0.193912</td>\n",
       "      <td>0.244187</td>\n",
       "      <td>0.260635</td>\n",
       "      <td>0.770773</td>\n",
       "      <td>0.932772</td>\n",
       "      <td>1.036456</td>\n",
       "      <td>1.215866</td>\n",
       "      <td>1.385014</td>\n",
       "      <td>1.485003</td>\n",
       "      <td>0.286543</td>\n",
       "      <td>-0.049728</td>\n",
       "      <td>-0.031420</td>\n",
       "      <td>-0.012370</td>\n",
       "      <td>-0.007462</td>\n",
       "      <td>-0.029782</td>\n",
       "    </tr>\n",
       "    <tr>\n",
       "      <th>4</th>\n",
       "      <td>-1.019929</td>\n",
       "      <td>-1.020317</td>\n",
       "      <td>1.077656</td>\n",
       "      <td>-0.887998</td>\n",
       "      <td>1.063096</td>\n",
       "      <td>1.931766</td>\n",
       "      <td>1.928912</td>\n",
       "      <td>0.132304</td>\n",
       "      <td>0.193912</td>\n",
       "      <td>0.244187</td>\n",
       "      <td>0.260635</td>\n",
       "      <td>-0.275126</td>\n",
       "      <td>-0.286246</td>\n",
       "      <td>-0.266028</td>\n",
       "      <td>-0.225627</td>\n",
       "      <td>-0.187059</td>\n",
       "      <td>-0.239127</td>\n",
       "      <td>-0.338119</td>\n",
       "      <td>-0.151678</td>\n",
       "      <td>-0.196764</td>\n",
       "      <td>-0.110905</td>\n",
       "      <td>-0.110354</td>\n",
       "      <td>-0.104056</td>\n",
       "    </tr>\n",
       "    <tr>\n",
       "      <th>...</th>\n",
       "      <td>...</td>\n",
       "      <td>...</td>\n",
       "      <td>...</td>\n",
       "      <td>...</td>\n",
       "      <td>...</td>\n",
       "      <td>...</td>\n",
       "      <td>...</td>\n",
       "      <td>...</td>\n",
       "      <td>...</td>\n",
       "      <td>...</td>\n",
       "      <td>...</td>\n",
       "      <td>...</td>\n",
       "      <td>...</td>\n",
       "      <td>...</td>\n",
       "      <td>...</td>\n",
       "      <td>...</td>\n",
       "      <td>...</td>\n",
       "      <td>...</td>\n",
       "      <td>...</td>\n",
       "      <td>...</td>\n",
       "      <td>...</td>\n",
       "      <td>...</td>\n",
       "      <td>...</td>\n",
       "    </tr>\n",
       "    <tr>\n",
       "      <th>39924</th>\n",
       "      <td>-0.345775</td>\n",
       "      <td>0.980088</td>\n",
       "      <td>1.077656</td>\n",
       "      <td>-0.887998</td>\n",
       "      <td>0.465025</td>\n",
       "      <td>1.931766</td>\n",
       "      <td>1.928912</td>\n",
       "      <td>1.988518</td>\n",
       "      <td>2.122357</td>\n",
       "      <td>2.226529</td>\n",
       "      <td>2.196981</td>\n",
       "      <td>-0.356911</td>\n",
       "      <td>-0.310937</td>\n",
       "      <td>-0.296147</td>\n",
       "      <td>-0.219410</td>\n",
       "      <td>-0.188025</td>\n",
       "      <td>-0.154885</td>\n",
       "      <td>-0.144473</td>\n",
       "      <td>-0.238971</td>\n",
       "      <td>-0.080286</td>\n",
       "      <td>-0.271638</td>\n",
       "      <td>-0.200288</td>\n",
       "      <td>-0.265492</td>\n",
       "    </tr>\n",
       "    <tr>\n",
       "      <th>39925</th>\n",
       "      <td>-0.454174</td>\n",
       "      <td>-1.020317</td>\n",
       "      <td>-0.283700</td>\n",
       "      <td>1.070728</td>\n",
       "      <td>-0.252661</td>\n",
       "      <td>-0.069388</td>\n",
       "      <td>0.087309</td>\n",
       "      <td>0.132304</td>\n",
       "      <td>0.193912</td>\n",
       "      <td>0.244187</td>\n",
       "      <td>0.260635</td>\n",
       "      <td>-0.028736</td>\n",
       "      <td>0.008060</td>\n",
       "      <td>0.048956</td>\n",
       "      <td>0.131831</td>\n",
       "      <td>0.198222</td>\n",
       "      <td>0.242921</td>\n",
       "      <td>-0.213186</td>\n",
       "      <td>-0.175657</td>\n",
       "      <td>-0.144447</td>\n",
       "      <td>-0.196287</td>\n",
       "      <td>-0.156679</td>\n",
       "      <td>-0.184483</td>\n",
       "    </tr>\n",
       "    <tr>\n",
       "      <th>39926</th>\n",
       "      <td>-0.292529</td>\n",
       "      <td>0.980088</td>\n",
       "      <td>-1.645055</td>\n",
       "      <td>-0.887998</td>\n",
       "      <td>0.823867</td>\n",
       "      <td>-1.069965</td>\n",
       "      <td>-0.833493</td>\n",
       "      <td>-0.795802</td>\n",
       "      <td>0.193912</td>\n",
       "      <td>-0.746984</td>\n",
       "      <td>0.260635</td>\n",
       "      <td>-0.661372</td>\n",
       "      <td>-0.684672</td>\n",
       "      <td>-0.610750</td>\n",
       "      <td>-0.652521</td>\n",
       "      <td>-0.596707</td>\n",
       "      <td>-0.620513</td>\n",
       "      <td>-0.319865</td>\n",
       "      <td>-0.023256</td>\n",
       "      <td>-0.302143</td>\n",
       "      <td>-0.011256</td>\n",
       "      <td>-0.317846</td>\n",
       "      <td>-0.223596</td>\n",
       "    </tr>\n",
       "    <tr>\n",
       "      <th>39927</th>\n",
       "      <td>0.354048</td>\n",
       "      <td>-1.020317</td>\n",
       "      <td>-0.283700</td>\n",
       "      <td>-0.887998</td>\n",
       "      <td>1.421939</td>\n",
       "      <td>0.931189</td>\n",
       "      <td>1.008110</td>\n",
       "      <td>1.988518</td>\n",
       "      <td>1.158134</td>\n",
       "      <td>1.235358</td>\n",
       "      <td>1.228808</td>\n",
       "      <td>1.289588</td>\n",
       "      <td>1.412564</td>\n",
       "      <td>1.450680</td>\n",
       "      <td>1.523812</td>\n",
       "      <td>1.710092</td>\n",
       "      <td>1.808714</td>\n",
       "      <td>0.174104</td>\n",
       "      <td>0.015729</td>\n",
       "      <td>0.044856</td>\n",
       "      <td>0.074126</td>\n",
       "      <td>0.061443</td>\n",
       "      <td>0.042615</td>\n",
       "    </tr>\n",
       "    <tr>\n",
       "      <th>39928</th>\n",
       "      <td>-0.373351</td>\n",
       "      <td>0.980088</td>\n",
       "      <td>-0.283700</td>\n",
       "      <td>-0.887998</td>\n",
       "      <td>-0.252661</td>\n",
       "      <td>1.931766</td>\n",
       "      <td>1.928912</td>\n",
       "      <td>1.988518</td>\n",
       "      <td>2.122357</td>\n",
       "      <td>2.226529</td>\n",
       "      <td>2.196981</td>\n",
       "      <td>-0.357588</td>\n",
       "      <td>-0.328580</td>\n",
       "      <td>-0.315596</td>\n",
       "      <td>-0.250776</td>\n",
       "      <td>-0.210259</td>\n",
       "      <td>-0.200983</td>\n",
       "      <td>-0.220127</td>\n",
       "      <td>-0.249141</td>\n",
       "      <td>-0.119405</td>\n",
       "      <td>-0.227869</td>\n",
       "      <td>-0.317846</td>\n",
       "      <td>-0.232143</td>\n",
       "    </tr>\n",
       "  </tbody>\n",
       "</table>\n",
       "<p>39929 rows × 23 columns</p>\n",
       "</div>"
      ],
      "text/plain": [
       "       LIMIT_BAL       SEX  EDUCATION  MARRIAGE       AGE     PAY_0     PAY_2  \\\n",
       "0       0.192404  0.980088   1.077656  1.070728 -0.372275 -0.069388  0.087309   \n",
       "1       0.434870  0.980088  -0.283700 -0.887998  0.106182 -2.070542 -1.754294   \n",
       "2       0.192404  0.980088  -0.283700 -0.887998 -0.491890 -1.069965  0.087309   \n",
       "3       1.162270  0.980088  -1.645055  1.070728 -0.970347 -0.069388  0.087309   \n",
       "4      -1.019929 -1.020317   1.077656 -0.887998  1.063096  1.931766  1.928912   \n",
       "...          ...       ...        ...       ...       ...       ...       ...   \n",
       "39924  -0.345775  0.980088   1.077656 -0.887998  0.465025  1.931766  1.928912   \n",
       "39925  -0.454174 -1.020317  -0.283700  1.070728 -0.252661 -0.069388  0.087309   \n",
       "39926  -0.292529  0.980088  -1.645055 -0.887998  0.823867 -1.069965 -0.833493   \n",
       "39927   0.354048 -1.020317  -0.283700 -0.887998  1.421939  0.931189  1.008110   \n",
       "39928  -0.373351  0.980088  -0.283700 -0.887998 -0.252661  1.931766  1.928912   \n",
       "\n",
       "          PAY_3     PAY_4     PAY_5     PAY_6  BILL_AMT1  BILL_AMT2  \\\n",
       "0      0.132304  0.193912  0.244187  0.260635  -0.405262  -0.444819   \n",
       "1     -1.723909 -1.734533 -1.738154 -1.675711  -0.689579  -0.688417   \n",
       "2      0.132304  0.193912  0.244187  0.260635  -0.670802  -0.661148   \n",
       "3      0.132304  0.193912  0.244187  0.260635   0.770773   0.932772   \n",
       "4      0.132304  0.193912  0.244187  0.260635  -0.275126  -0.286246   \n",
       "...         ...       ...       ...       ...        ...        ...   \n",
       "39924  1.988518  2.122357  2.226529  2.196981  -0.356911  -0.310937   \n",
       "39925  0.132304  0.193912  0.244187  0.260635  -0.028736   0.008060   \n",
       "39926 -0.795802  0.193912 -0.746984  0.260635  -0.661372  -0.684672   \n",
       "39927  1.988518  1.158134  1.235358  1.228808   1.289588   1.412564   \n",
       "39928  1.988518  2.122357  2.226529  2.196981  -0.357588  -0.328580   \n",
       "\n",
       "       BILL_AMT3  BILL_AMT4  BILL_AMT5  BILL_AMT6  PAY_AMT1  PAY_AMT2  \\\n",
       "0      -0.151223  -0.182804  -0.179408  -0.214412 -0.228317  1.246455   \n",
       "1      -0.677159  -0.671580  -0.663626  -0.655223 -0.338119 -0.249141   \n",
       "2      -0.638686  -0.649421  -0.627408  -0.625119 -0.218600 -0.134129   \n",
       "3       1.036456   1.215866   1.385014   1.485003  0.286543 -0.049728   \n",
       "4      -0.266028  -0.225627  -0.187059  -0.239127 -0.338119 -0.151678   \n",
       "...          ...        ...        ...        ...       ...       ...   \n",
       "39924  -0.296147  -0.219410  -0.188025  -0.154885 -0.144473 -0.238971   \n",
       "39925   0.048956   0.131831   0.198222   0.242921 -0.213186 -0.175657   \n",
       "39926  -0.610750  -0.652521  -0.596707  -0.620513 -0.319865 -0.023256   \n",
       "39927   1.450680   1.523812   1.710092   1.808714  0.174104  0.015729   \n",
       "39928  -0.315596  -0.250776  -0.210259  -0.200983 -0.220127 -0.249141   \n",
       "\n",
       "       PAY_AMT3  PAY_AMT4  PAY_AMT5  PAY_AMT6  \n",
       "0     -0.234463 -0.235300 -0.240250 -0.224049  \n",
       "1     -0.302143 -0.309610 -0.317846 -0.288805  \n",
       "2     -0.260858 -0.209960 -0.246302 -0.191412  \n",
       "3     -0.031420 -0.012370 -0.007462 -0.029782  \n",
       "4     -0.196764 -0.110905 -0.110354 -0.104056  \n",
       "...         ...       ...       ...       ...  \n",
       "39924 -0.080286 -0.271638 -0.200288 -0.265492  \n",
       "39925 -0.144447 -0.196287 -0.156679 -0.184483  \n",
       "39926 -0.302143 -0.011256 -0.317846 -0.223596  \n",
       "39927  0.044856  0.074126  0.061443  0.042615  \n",
       "39928 -0.119405 -0.227869 -0.317846 -0.232143  \n",
       "\n",
       "[39929 rows x 23 columns]"
      ]
     },
     "execution_count": 100,
     "metadata": {},
     "output_type": "execute_result"
    }
   ],
   "source": [
    "X_train_scaled"
   ]
  },
  {
   "cell_type": "code",
   "execution_count": 101,
   "id": "c09dc180-38bd-49de-aa91-794069380cf4",
   "metadata": {
    "tags": []
   },
   "outputs": [],
   "source": [
    "X_test_scaled=pd.DataFrame(X_test_scaled,columns=X_test.columns)"
   ]
  },
  {
   "cell_type": "code",
   "execution_count": 102,
   "id": "243b1587-0ff8-4008-9e13-9940849fdaee",
   "metadata": {
    "tags": []
   },
   "outputs": [
    {
     "data": {
      "text/html": [
       "<div>\n",
       "<style scoped>\n",
       "    .dataframe tbody tr th:only-of-type {\n",
       "        vertical-align: middle;\n",
       "    }\n",
       "\n",
       "    .dataframe tbody tr th {\n",
       "        vertical-align: top;\n",
       "    }\n",
       "\n",
       "    .dataframe thead th {\n",
       "        text-align: right;\n",
       "    }\n",
       "</style>\n",
       "<table border=\"1\" class=\"dataframe\">\n",
       "  <thead>\n",
       "    <tr style=\"text-align: right;\">\n",
       "      <th></th>\n",
       "      <th>LIMIT_BAL</th>\n",
       "      <th>SEX</th>\n",
       "      <th>EDUCATION</th>\n",
       "      <th>MARRIAGE</th>\n",
       "      <th>AGE</th>\n",
       "      <th>PAY_0</th>\n",
       "      <th>PAY_2</th>\n",
       "      <th>PAY_3</th>\n",
       "      <th>PAY_4</th>\n",
       "      <th>PAY_5</th>\n",
       "      <th>PAY_6</th>\n",
       "      <th>BILL_AMT1</th>\n",
       "      <th>BILL_AMT2</th>\n",
       "      <th>BILL_AMT3</th>\n",
       "      <th>BILL_AMT4</th>\n",
       "      <th>BILL_AMT5</th>\n",
       "      <th>BILL_AMT6</th>\n",
       "      <th>PAY_AMT1</th>\n",
       "      <th>PAY_AMT2</th>\n",
       "      <th>PAY_AMT3</th>\n",
       "      <th>PAY_AMT4</th>\n",
       "      <th>PAY_AMT5</th>\n",
       "      <th>PAY_AMT6</th>\n",
       "    </tr>\n",
       "  </thead>\n",
       "  <tbody>\n",
       "    <tr>\n",
       "      <th>0</th>\n",
       "      <td>-0.292529</td>\n",
       "      <td>0.980088</td>\n",
       "      <td>1.077656</td>\n",
       "      <td>-0.887998</td>\n",
       "      <td>0.106182</td>\n",
       "      <td>-1.069965</td>\n",
       "      <td>-0.833493</td>\n",
       "      <td>-0.795802</td>\n",
       "      <td>0.193912</td>\n",
       "      <td>-0.746984</td>\n",
       "      <td>-0.707538</td>\n",
       "      <td>-0.687380</td>\n",
       "      <td>-0.688417</td>\n",
       "      <td>-0.667603</td>\n",
       "      <td>-0.666449</td>\n",
       "      <td>-0.658192</td>\n",
       "      <td>-0.647132</td>\n",
       "      <td>-0.338119</td>\n",
       "      <td>-0.200384</td>\n",
       "      <td>-0.302143</td>\n",
       "      <td>-0.285385</td>\n",
       "      <td>-0.280910</td>\n",
       "      <td>-0.267694</td>\n",
       "    </tr>\n",
       "    <tr>\n",
       "      <th>1</th>\n",
       "      <td>-0.534996</td>\n",
       "      <td>0.980088</td>\n",
       "      <td>1.077656</td>\n",
       "      <td>1.070728</td>\n",
       "      <td>-1.448804</td>\n",
       "      <td>1.931766</td>\n",
       "      <td>1.928912</td>\n",
       "      <td>1.988518</td>\n",
       "      <td>2.122357</td>\n",
       "      <td>2.226529</td>\n",
       "      <td>2.196981</td>\n",
       "      <td>-0.440686</td>\n",
       "      <td>-0.437898</td>\n",
       "      <td>-0.391473</td>\n",
       "      <td>-0.374383</td>\n",
       "      <td>-0.306779</td>\n",
       "      <td>-0.283968</td>\n",
       "      <td>-0.338119</td>\n",
       "      <td>-0.124508</td>\n",
       "      <td>-0.302143</td>\n",
       "      <td>-0.086680</td>\n",
       "      <td>-0.245681</td>\n",
       "      <td>-0.288805</td>\n",
       "    </tr>\n",
       "    <tr>\n",
       "      <th>2</th>\n",
       "      <td>0.434870</td>\n",
       "      <td>-1.020317</td>\n",
       "      <td>-0.283700</td>\n",
       "      <td>1.070728</td>\n",
       "      <td>0.225796</td>\n",
       "      <td>0.931189</td>\n",
       "      <td>-0.833493</td>\n",
       "      <td>-0.795802</td>\n",
       "      <td>-1.734533</td>\n",
       "      <td>-1.738154</td>\n",
       "      <td>-0.707538</td>\n",
       "      <td>-0.691888</td>\n",
       "      <td>-0.668168</td>\n",
       "      <td>-0.677159</td>\n",
       "      <td>-0.671580</td>\n",
       "      <td>-0.663626</td>\n",
       "      <td>-0.647098</td>\n",
       "      <td>-0.239422</td>\n",
       "      <td>-0.249141</td>\n",
       "      <td>-0.302143</td>\n",
       "      <td>-0.309610</td>\n",
       "      <td>-0.280755</td>\n",
       "      <td>-0.288805</td>\n",
       "    </tr>\n",
       "    <tr>\n",
       "      <th>3</th>\n",
       "      <td>0.919803</td>\n",
       "      <td>0.980088</td>\n",
       "      <td>1.077656</td>\n",
       "      <td>-0.887998</td>\n",
       "      <td>-1.089961</td>\n",
       "      <td>-0.069388</td>\n",
       "      <td>0.087309</td>\n",
       "      <td>0.132304</td>\n",
       "      <td>0.193912</td>\n",
       "      <td>0.244187</td>\n",
       "      <td>-0.707538</td>\n",
       "      <td>-0.376586</td>\n",
       "      <td>-0.524718</td>\n",
       "      <td>-0.497279</td>\n",
       "      <td>-0.482503</td>\n",
       "      <td>-0.487003</td>\n",
       "      <td>-0.125189</td>\n",
       "      <td>-0.234286</td>\n",
       "      <td>-0.135824</td>\n",
       "      <td>-0.165834</td>\n",
       "      <td>-0.265247</td>\n",
       "      <td>2.101751</td>\n",
       "      <td>5.060990</td>\n",
       "    </tr>\n",
       "    <tr>\n",
       "      <th>4</th>\n",
       "      <td>-0.292529</td>\n",
       "      <td>0.980088</td>\n",
       "      <td>1.077656</td>\n",
       "      <td>1.070728</td>\n",
       "      <td>0.584639</td>\n",
       "      <td>0.931189</td>\n",
       "      <td>-1.754294</td>\n",
       "      <td>-1.723909</td>\n",
       "      <td>-1.734533</td>\n",
       "      <td>-1.738154</td>\n",
       "      <td>-1.675711</td>\n",
       "      <td>-0.694653</td>\n",
       "      <td>-0.691265</td>\n",
       "      <td>-0.680090</td>\n",
       "      <td>-0.674727</td>\n",
       "      <td>-0.663626</td>\n",
       "      <td>-0.513119</td>\n",
       "      <td>-0.338119</td>\n",
       "      <td>-0.249141</td>\n",
       "      <td>-0.302143</td>\n",
       "      <td>-0.294748</td>\n",
       "      <td>0.330856</td>\n",
       "      <td>-0.288805</td>\n",
       "    </tr>\n",
       "    <tr>\n",
       "      <th>...</th>\n",
       "      <td>...</td>\n",
       "      <td>...</td>\n",
       "      <td>...</td>\n",
       "      <td>...</td>\n",
       "      <td>...</td>\n",
       "      <td>...</td>\n",
       "      <td>...</td>\n",
       "      <td>...</td>\n",
       "      <td>...</td>\n",
       "      <td>...</td>\n",
       "      <td>...</td>\n",
       "      <td>...</td>\n",
       "      <td>...</td>\n",
       "      <td>...</td>\n",
       "      <td>...</td>\n",
       "      <td>...</td>\n",
       "      <td>...</td>\n",
       "      <td>...</td>\n",
       "      <td>...</td>\n",
       "      <td>...</td>\n",
       "      <td>...</td>\n",
       "      <td>...</td>\n",
       "      <td>...</td>\n",
       "    </tr>\n",
       "    <tr>\n",
       "      <th>4432</th>\n",
       "      <td>-0.534996</td>\n",
       "      <td>0.980088</td>\n",
       "      <td>-0.283700</td>\n",
       "      <td>1.070728</td>\n",
       "      <td>-1.089961</td>\n",
       "      <td>-1.069965</td>\n",
       "      <td>-0.833493</td>\n",
       "      <td>-0.795802</td>\n",
       "      <td>-0.770311</td>\n",
       "      <td>-0.746984</td>\n",
       "      <td>-0.707538</td>\n",
       "      <td>-0.674964</td>\n",
       "      <td>-0.643989</td>\n",
       "      <td>-0.652067</td>\n",
       "      <td>-0.592890</td>\n",
       "      <td>-0.663626</td>\n",
       "      <td>-0.583661</td>\n",
       "      <td>-0.121014</td>\n",
       "      <td>-0.163792</td>\n",
       "      <td>0.036261</td>\n",
       "      <td>-0.309610</td>\n",
       "      <td>0.008833</td>\n",
       "      <td>-0.240238</td>\n",
       "    </tr>\n",
       "    <tr>\n",
       "      <th>4433</th>\n",
       "      <td>0.434870</td>\n",
       "      <td>0.980088</td>\n",
       "      <td>-0.283700</td>\n",
       "      <td>-0.887998</td>\n",
       "      <td>-1.448804</td>\n",
       "      <td>-2.070542</td>\n",
       "      <td>-1.754294</td>\n",
       "      <td>-1.723909</td>\n",
       "      <td>-0.770311</td>\n",
       "      <td>0.244187</td>\n",
       "      <td>0.260635</td>\n",
       "      <td>-0.691888</td>\n",
       "      <td>-0.688417</td>\n",
       "      <td>-0.677159</td>\n",
       "      <td>-0.209873</td>\n",
       "      <td>-0.157574</td>\n",
       "      <td>-0.122231</td>\n",
       "      <td>-0.338119</td>\n",
       "      <td>-0.249141</td>\n",
       "      <td>1.683409</td>\n",
       "      <td>-0.198145</td>\n",
       "      <td>-0.201452</td>\n",
       "      <td>-0.191671</td>\n",
       "    </tr>\n",
       "    <tr>\n",
       "      <th>4434</th>\n",
       "      <td>-0.050063</td>\n",
       "      <td>0.980088</td>\n",
       "      <td>-0.283700</td>\n",
       "      <td>1.070728</td>\n",
       "      <td>-0.372275</td>\n",
       "      <td>1.931766</td>\n",
       "      <td>1.928912</td>\n",
       "      <td>1.988518</td>\n",
       "      <td>0.193912</td>\n",
       "      <td>0.244187</td>\n",
       "      <td>1.228808</td>\n",
       "      <td>0.975144</td>\n",
       "      <td>1.064973</td>\n",
       "      <td>1.124542</td>\n",
       "      <td>1.277607</td>\n",
       "      <td>1.516819</td>\n",
       "      <td>1.623452</td>\n",
       "      <td>0.077629</td>\n",
       "      <td>-0.085423</td>\n",
       "      <td>-0.001099</td>\n",
       "      <td>0.381918</td>\n",
       "      <td>0.112501</td>\n",
       "      <td>0.035557</td>\n",
       "    </tr>\n",
       "    <tr>\n",
       "      <th>4435</th>\n",
       "      <td>1.728025</td>\n",
       "      <td>-1.020317</td>\n",
       "      <td>-0.283700</td>\n",
       "      <td>1.070728</td>\n",
       "      <td>0.106182</td>\n",
       "      <td>-0.069388</td>\n",
       "      <td>0.087309</td>\n",
       "      <td>0.132304</td>\n",
       "      <td>0.193912</td>\n",
       "      <td>0.244187</td>\n",
       "      <td>0.260635</td>\n",
       "      <td>3.423986</td>\n",
       "      <td>3.675407</td>\n",
       "      <td>3.833162</td>\n",
       "      <td>2.884806</td>\n",
       "      <td>3.198512</td>\n",
       "      <td>3.130806</td>\n",
       "      <td>0.497055</td>\n",
       "      <td>0.349845</td>\n",
       "      <td>0.173991</td>\n",
       "      <td>0.807788</td>\n",
       "      <td>0.230447</td>\n",
       "      <td>0.229241</td>\n",
       "    </tr>\n",
       "    <tr>\n",
       "      <th>4436</th>\n",
       "      <td>-0.858284</td>\n",
       "      <td>-1.020317</td>\n",
       "      <td>-1.645055</td>\n",
       "      <td>-0.887998</td>\n",
       "      <td>1.780782</td>\n",
       "      <td>1.931766</td>\n",
       "      <td>0.087309</td>\n",
       "      <td>0.132304</td>\n",
       "      <td>0.193912</td>\n",
       "      <td>0.244187</td>\n",
       "      <td>0.260635</td>\n",
       "      <td>-0.561420</td>\n",
       "      <td>-0.538074</td>\n",
       "      <td>-0.505399</td>\n",
       "      <td>-0.478175</td>\n",
       "      <td>-0.452901</td>\n",
       "      <td>-0.421397</td>\n",
       "      <td>-0.235535</td>\n",
       "      <td>-0.167431</td>\n",
       "      <td>-0.229928</td>\n",
       "      <td>-0.252614</td>\n",
       "      <td>-0.203547</td>\n",
       "      <td>-0.279674</td>\n",
       "    </tr>\n",
       "  </tbody>\n",
       "</table>\n",
       "<p>4437 rows × 23 columns</p>\n",
       "</div>"
      ],
      "text/plain": [
       "      LIMIT_BAL       SEX  EDUCATION  MARRIAGE       AGE     PAY_0     PAY_2  \\\n",
       "0     -0.292529  0.980088   1.077656 -0.887998  0.106182 -1.069965 -0.833493   \n",
       "1     -0.534996  0.980088   1.077656  1.070728 -1.448804  1.931766  1.928912   \n",
       "2      0.434870 -1.020317  -0.283700  1.070728  0.225796  0.931189 -0.833493   \n",
       "3      0.919803  0.980088   1.077656 -0.887998 -1.089961 -0.069388  0.087309   \n",
       "4     -0.292529  0.980088   1.077656  1.070728  0.584639  0.931189 -1.754294   \n",
       "...         ...       ...        ...       ...       ...       ...       ...   \n",
       "4432  -0.534996  0.980088  -0.283700  1.070728 -1.089961 -1.069965 -0.833493   \n",
       "4433   0.434870  0.980088  -0.283700 -0.887998 -1.448804 -2.070542 -1.754294   \n",
       "4434  -0.050063  0.980088  -0.283700  1.070728 -0.372275  1.931766  1.928912   \n",
       "4435   1.728025 -1.020317  -0.283700  1.070728  0.106182 -0.069388  0.087309   \n",
       "4436  -0.858284 -1.020317  -1.645055 -0.887998  1.780782  1.931766  0.087309   \n",
       "\n",
       "         PAY_3     PAY_4     PAY_5     PAY_6  BILL_AMT1  BILL_AMT2  BILL_AMT3  \\\n",
       "0    -0.795802  0.193912 -0.746984 -0.707538  -0.687380  -0.688417  -0.667603   \n",
       "1     1.988518  2.122357  2.226529  2.196981  -0.440686  -0.437898  -0.391473   \n",
       "2    -0.795802 -1.734533 -1.738154 -0.707538  -0.691888  -0.668168  -0.677159   \n",
       "3     0.132304  0.193912  0.244187 -0.707538  -0.376586  -0.524718  -0.497279   \n",
       "4    -1.723909 -1.734533 -1.738154 -1.675711  -0.694653  -0.691265  -0.680090   \n",
       "...        ...       ...       ...       ...        ...        ...        ...   \n",
       "4432 -0.795802 -0.770311 -0.746984 -0.707538  -0.674964  -0.643989  -0.652067   \n",
       "4433 -1.723909 -0.770311  0.244187  0.260635  -0.691888  -0.688417  -0.677159   \n",
       "4434  1.988518  0.193912  0.244187  1.228808   0.975144   1.064973   1.124542   \n",
       "4435  0.132304  0.193912  0.244187  0.260635   3.423986   3.675407   3.833162   \n",
       "4436  0.132304  0.193912  0.244187  0.260635  -0.561420  -0.538074  -0.505399   \n",
       "\n",
       "      BILL_AMT4  BILL_AMT5  BILL_AMT6  PAY_AMT1  PAY_AMT2  PAY_AMT3  PAY_AMT4  \\\n",
       "0     -0.666449  -0.658192  -0.647132 -0.338119 -0.200384 -0.302143 -0.285385   \n",
       "1     -0.374383  -0.306779  -0.283968 -0.338119 -0.124508 -0.302143 -0.086680   \n",
       "2     -0.671580  -0.663626  -0.647098 -0.239422 -0.249141 -0.302143 -0.309610   \n",
       "3     -0.482503  -0.487003  -0.125189 -0.234286 -0.135824 -0.165834 -0.265247   \n",
       "4     -0.674727  -0.663626  -0.513119 -0.338119 -0.249141 -0.302143 -0.294748   \n",
       "...         ...        ...        ...       ...       ...       ...       ...   \n",
       "4432  -0.592890  -0.663626  -0.583661 -0.121014 -0.163792  0.036261 -0.309610   \n",
       "4433  -0.209873  -0.157574  -0.122231 -0.338119 -0.249141  1.683409 -0.198145   \n",
       "4434   1.277607   1.516819   1.623452  0.077629 -0.085423 -0.001099  0.381918   \n",
       "4435   2.884806   3.198512   3.130806  0.497055  0.349845  0.173991  0.807788   \n",
       "4436  -0.478175  -0.452901  -0.421397 -0.235535 -0.167431 -0.229928 -0.252614   \n",
       "\n",
       "      PAY_AMT5  PAY_AMT6  \n",
       "0    -0.280910 -0.267694  \n",
       "1    -0.245681 -0.288805  \n",
       "2    -0.280755 -0.288805  \n",
       "3     2.101751  5.060990  \n",
       "4     0.330856 -0.288805  \n",
       "...        ...       ...  \n",
       "4432  0.008833 -0.240238  \n",
       "4433 -0.201452 -0.191671  \n",
       "4434  0.112501  0.035557  \n",
       "4435  0.230447  0.229241  \n",
       "4436 -0.203547 -0.279674  \n",
       "\n",
       "[4437 rows x 23 columns]"
      ]
     },
     "execution_count": 102,
     "metadata": {},
     "output_type": "execute_result"
    }
   ],
   "source": [
    "X_test_scaled"
   ]
  },
  {
   "cell_type": "code",
   "execution_count": null,
   "id": "628f06fc-ee88-4e93-af82-ca40aaabeae5",
   "metadata": {
    "tags": []
   },
   "outputs": [],
   "source": [
    " "
   ]
  },
  {
   "cell_type": "code",
   "execution_count": null,
   "id": "71b161a8-4809-4fcd-b063-7684c3d69203",
   "metadata": {
    "tags": []
   },
   "outputs": [],
   "source": [
    " \n"
   ]
  },
  {
   "cell_type": "code",
   "execution_count": null,
   "id": "cfad1b8f-ed06-45a5-87fb-a91bc11e2043",
   "metadata": {
    "tags": []
   },
   "outputs": [],
   "source": [
    " "
   ]
  },
  {
   "cell_type": "code",
   "execution_count": null,
   "id": "9f50d2e8-706b-40b2-a606-281ed110d933",
   "metadata": {
    "tags": []
   },
   "outputs": [],
   "source": [
    " "
   ]
  },
  {
   "cell_type": "code",
   "execution_count": 105,
   "id": "c67307b4-b8d3-45f3-a400-c8e16aa56760",
   "metadata": {
    "tags": []
   },
   "outputs": [],
   "source": [
    "pickle.dump(scaler,open('scaler.pkl','wb'))"
   ]
  },
  {
   "cell_type": "code",
   "execution_count": 104,
   "id": "12980ff3-6750-484d-ade7-bf0145db35ac",
   "metadata": {
    "tags": []
   },
   "outputs": [
    {
     "data": {
      "text/plain": [
       "{'Random_Forest': 84.76448050484562,\n",
       " 'Decision Tree': 75.29862519720531,\n",
       " 'SVC': 75.25354969574036,\n",
       " 'AdaBoost': 74.4421906693712,\n",
       " 'GradientBoost': 77.89046653144015,\n",
       " 'Xgboost': 82.48816768086546}"
      ]
     },
     "execution_count": 104,
     "metadata": {},
     "output_type": "execute_result"
    }
   ],
   "source": [
    "evaluate_model(X_train_scaled,y_train,X_test_scaled,y_test,models)"
   ]
  },
  {
   "cell_type": "markdown",
   "id": "94420b42-02a4-4e4c-be98-9c8228d85366",
   "metadata": {},
   "source": [
    "# Gradient Boost has highest accuracy"
   ]
  },
  {
   "cell_type": "code",
   "execution_count": 38,
   "id": "810ac30b-f274-4620-93cc-105bb12b6567",
   "metadata": {
    "tags": []
   },
   "outputs": [],
   "source": [
    "from sklearn.model_selection import RandomizedSearchCV"
   ]
  },
  {
   "cell_type": "code",
   "execution_count": 39,
   "id": "5068d1fc-bf2c-4769-8d72-9068e399305a",
   "metadata": {
    "tags": []
   },
   "outputs": [],
   "source": [
    "gb=GradientBoostingClassifier()"
   ]
  },
  {
   "cell_type": "code",
   "execution_count": 40,
   "id": "7f9e5851-9ba3-4913-b161-417b576a8839",
   "metadata": {
    "tags": []
   },
   "outputs": [],
   "source": [
    " param_dist = {\n",
    "    'learning_rate': [0.01, 0.1, 0.2],\n",
    "    'n_estimators': [50, 100, 200],\n",
    "    'max_depth': [3, 4, 5],\n",
    "    'subsample': [0.8, 0.9, 1.0],\n",
    "    'min_samples_split': [2, 5, 10],\n",
    "    'min_samples_leaf': [1, 2, 4],\n",
    "    'max_features': [None, 'sqrt', 'log2']\n",
    "}\n"
   ]
  },
  {
   "cell_type": "code",
   "execution_count": 41,
   "id": "391fcb24-3302-40b4-9227-52d1b405cba8",
   "metadata": {
    "tags": []
   },
   "outputs": [],
   "source": [
    "random_search = RandomizedSearchCV(estimator=gb, param_distributions=param_dist, n_iter=10, cv=5, scoring='accuracy', n_jobs=-1, random_state=42)\n"
   ]
  },
  {
   "cell_type": "code",
   "execution_count": null,
   "id": "5c14f5d0-9491-4ac9-9a6c-70dc7c343789",
   "metadata": {
    "tags": []
   },
   "outputs": [],
   "source": [
    "random_search.fit(X_train, y_train)"
   ]
  },
  {
   "cell_type": "code",
   "execution_count": 21,
   "id": "e9e70b45-e65a-4be4-9f1c-5930c1cff975",
   "metadata": {},
   "outputs": [
    {
     "name": "stdout",
     "output_type": "stream",
     "text": [
      "Best Hyperparameters: {'subsample': 1.0, 'n_estimators': 100, 'min_samples_split': 10, 'min_samples_leaf': 1, 'max_features': None, 'max_depth': 5, 'learning_rate': 0.1}\n"
     ]
    }
   ],
   "source": [
    "print(\"Best Hyperparameters:\", random_search.best_params_)"
   ]
  },
  {
   "cell_type": "code",
   "execution_count": null,
   "id": "0c402d9e-6905-46d3-a0f6-af6dfb964179",
   "metadata": {},
   "outputs": [],
   "source": [
    "model=GradientBoostingClassifier()"
   ]
  },
  {
   "cell_type": "code",
   "execution_count": 26,
   "id": "db4cac6d-8b1f-484e-8dd2-3d38f5b17c8f",
   "metadata": {
    "tags": []
   },
   "outputs": [
    {
     "name": "stdout",
     "output_type": "stream",
     "text": [
      "Test Accuracy: 89.42979490646833\n"
     ]
    }
   ],
   "source": [
    "best_model = random_search.best_estimator_\n",
    "test_accuracy = best_model.score(y_test,y_pred)\n",
    "print(\"Test Accuracy:\", test_accuracy*100)"
   ]
  },
  {
   "cell_type": "code",
   "execution_count": 2,
   "id": "f99ab46a-36f4-416e-baf8-a6466a363d89",
   "metadata": {
    "tags": []
   },
   "outputs": [],
   "source": [
    "import pickle"
   ]
  },
  {
   "cell_type": "code",
   "execution_count": 28,
   "id": "b6d96d79-797c-4a8c-8d27-53fe2d9de030",
   "metadata": {
    "tags": []
   },
   "outputs": [],
   "source": [
    " pickle.dump(best_model,open('gradientboost.pkl','wb'))"
   ]
  },
  {
   "cell_type": "code",
   "execution_count": 29,
   "id": "ae134ed7-d311-4be0-9d9c-1ab8277cc516",
   "metadata": {
    "tags": []
   },
   "outputs": [],
   "source": [
    "model=pickle.load(open('gradientboost.pkl','rb'))"
   ]
  },
  {
   "cell_type": "code",
   "execution_count": 30,
   "id": "535809ea-f60d-4a29-8ec9-38e27bdc326d",
   "metadata": {
    "tags": []
   },
   "outputs": [],
   "source": [
    "y_pred=model.predict(X_test)"
   ]
  },
  {
   "cell_type": "code",
   "execution_count": 31,
   "id": "19fc2976-8f7d-4f5e-b24d-9c618d0fd152",
   "metadata": {
    "tags": []
   },
   "outputs": [
    {
     "data": {
      "text/plain": [
       "89.42979490646833"
      ]
     },
     "execution_count": 31,
     "metadata": {},
     "output_type": "execute_result"
    }
   ],
   "source": [
    "accuracy_score(y_test,y_pred)*100"
   ]
  },
  {
   "cell_type": "code",
   "execution_count": null,
   "id": "64f8e8d6-5099-4491-be4d-e0f1ba432beb",
   "metadata": {},
   "outputs": [],
   "source": []
  },
  {
   "cell_type": "markdown",
   "id": "977cfd2e-a2b4-4f94-9935-c474e3e95020",
   "metadata": {},
   "source": [
    "# Random Forest Pickle"
   ]
  },
  {
   "cell_type": "code",
   "execution_count": 106,
   "id": "9e004298-5376-4225-96f6-5ac401ab0eb5",
   "metadata": {
    "tags": []
   },
   "outputs": [],
   "source": [
    "rf=RandomForestClassifier()"
   ]
  },
  {
   "cell_type": "code",
   "execution_count": 108,
   "id": "6e533b6f-1b41-45c3-a224-3ffee5af08b5",
   "metadata": {
    "tags": []
   },
   "outputs": [
    {
     "data": {
      "text/html": [
       "<style>#sk-container-id-2 {color: black;}#sk-container-id-2 pre{padding: 0;}#sk-container-id-2 div.sk-toggleable {background-color: white;}#sk-container-id-2 label.sk-toggleable__label {cursor: pointer;display: block;width: 100%;margin-bottom: 0;padding: 0.3em;box-sizing: border-box;text-align: center;}#sk-container-id-2 label.sk-toggleable__label-arrow:before {content: \"▸\";float: left;margin-right: 0.25em;color: #696969;}#sk-container-id-2 label.sk-toggleable__label-arrow:hover:before {color: black;}#sk-container-id-2 div.sk-estimator:hover label.sk-toggleable__label-arrow:before {color: black;}#sk-container-id-2 div.sk-toggleable__content {max-height: 0;max-width: 0;overflow: hidden;text-align: left;background-color: #f0f8ff;}#sk-container-id-2 div.sk-toggleable__content pre {margin: 0.2em;color: black;border-radius: 0.25em;background-color: #f0f8ff;}#sk-container-id-2 input.sk-toggleable__control:checked~div.sk-toggleable__content {max-height: 200px;max-width: 100%;overflow: auto;}#sk-container-id-2 input.sk-toggleable__control:checked~label.sk-toggleable__label-arrow:before {content: \"▾\";}#sk-container-id-2 div.sk-estimator input.sk-toggleable__control:checked~label.sk-toggleable__label {background-color: #d4ebff;}#sk-container-id-2 div.sk-label input.sk-toggleable__control:checked~label.sk-toggleable__label {background-color: #d4ebff;}#sk-container-id-2 input.sk-hidden--visually {border: 0;clip: rect(1px 1px 1px 1px);clip: rect(1px, 1px, 1px, 1px);height: 1px;margin: -1px;overflow: hidden;padding: 0;position: absolute;width: 1px;}#sk-container-id-2 div.sk-estimator {font-family: monospace;background-color: #f0f8ff;border: 1px dotted black;border-radius: 0.25em;box-sizing: border-box;margin-bottom: 0.5em;}#sk-container-id-2 div.sk-estimator:hover {background-color: #d4ebff;}#sk-container-id-2 div.sk-parallel-item::after {content: \"\";width: 100%;border-bottom: 1px solid gray;flex-grow: 1;}#sk-container-id-2 div.sk-label:hover label.sk-toggleable__label {background-color: #d4ebff;}#sk-container-id-2 div.sk-serial::before {content: \"\";position: absolute;border-left: 1px solid gray;box-sizing: border-box;top: 0;bottom: 0;left: 50%;z-index: 0;}#sk-container-id-2 div.sk-serial {display: flex;flex-direction: column;align-items: center;background-color: white;padding-right: 0.2em;padding-left: 0.2em;position: relative;}#sk-container-id-2 div.sk-item {position: relative;z-index: 1;}#sk-container-id-2 div.sk-parallel {display: flex;align-items: stretch;justify-content: center;background-color: white;position: relative;}#sk-container-id-2 div.sk-item::before, #sk-container-id-2 div.sk-parallel-item::before {content: \"\";position: absolute;border-left: 1px solid gray;box-sizing: border-box;top: 0;bottom: 0;left: 50%;z-index: -1;}#sk-container-id-2 div.sk-parallel-item {display: flex;flex-direction: column;z-index: 1;position: relative;background-color: white;}#sk-container-id-2 div.sk-parallel-item:first-child::after {align-self: flex-end;width: 50%;}#sk-container-id-2 div.sk-parallel-item:last-child::after {align-self: flex-start;width: 50%;}#sk-container-id-2 div.sk-parallel-item:only-child::after {width: 0;}#sk-container-id-2 div.sk-dashed-wrapped {border: 1px dashed gray;margin: 0 0.4em 0.5em 0.4em;box-sizing: border-box;padding-bottom: 0.4em;background-color: white;}#sk-container-id-2 div.sk-label label {font-family: monospace;font-weight: bold;display: inline-block;line-height: 1.2em;}#sk-container-id-2 div.sk-label-container {text-align: center;}#sk-container-id-2 div.sk-container {/* jupyter's `normalize.less` sets `[hidden] { display: none; }` but bootstrap.min.css set `[hidden] { display: none !important; }` so we also need the `!important` here to be able to override the default hidden behavior on the sphinx rendered scikit-learn.org. See: https://github.com/scikit-learn/scikit-learn/issues/21755 */display: inline-block !important;position: relative;}#sk-container-id-2 div.sk-text-repr-fallback {display: none;}</style><div id=\"sk-container-id-2\" class=\"sk-top-container\"><div class=\"sk-text-repr-fallback\"><pre>RandomForestClassifier()</pre><b>In a Jupyter environment, please rerun this cell to show the HTML representation or trust the notebook. <br />On GitHub, the HTML representation is unable to render, please try loading this page with nbviewer.org.</b></div><div class=\"sk-container\" hidden><div class=\"sk-item\"><div class=\"sk-estimator sk-toggleable\"><input class=\"sk-toggleable__control sk-hidden--visually\" id=\"sk-estimator-id-2\" type=\"checkbox\" checked><label for=\"sk-estimator-id-2\" class=\"sk-toggleable__label sk-toggleable__label-arrow\">RandomForestClassifier</label><div class=\"sk-toggleable__content\"><pre>RandomForestClassifier()</pre></div></div></div></div></div>"
      ],
      "text/plain": [
       "RandomForestClassifier()"
      ]
     },
     "execution_count": 108,
     "metadata": {},
     "output_type": "execute_result"
    }
   ],
   "source": [
    "rf.fit(X_train_scaled,y_train)"
   ]
  },
  {
   "cell_type": "code",
   "execution_count": 111,
   "id": "f8a3eaab-2f65-49f1-8fd9-4aacd928fceb",
   "metadata": {
    "tags": []
   },
   "outputs": [],
   "source": [
    "y_pred=rf.predict(X_test_scaled)"
   ]
  },
  {
   "cell_type": "code",
   "execution_count": 112,
   "id": "8b2fa598-79de-4970-b956-d1290de9f6f9",
   "metadata": {
    "tags": []
   },
   "outputs": [
    {
     "data": {
      "text/plain": [
       "0.8483209375704305"
      ]
     },
     "execution_count": 112,
     "metadata": {},
     "output_type": "execute_result"
    }
   ],
   "source": [
    "accuracy_score(y_test,y_pred)"
   ]
  },
  {
   "cell_type": "code",
   "execution_count": 113,
   "id": "c5e0dcc6-2ac7-419d-a0fd-c294a9b0cdc9",
   "metadata": {
    "tags": []
   },
   "outputs": [],
   "source": [
    "pickle.dump(rf,open('randomforest.pkl','wb'))"
   ]
  },
  {
   "cell_type": "code",
   "execution_count": 116,
   "id": "62de8483-6ef3-4876-8184-4789b50197e4",
   "metadata": {
    "tags": []
   },
   "outputs": [],
   "source": [
    "model = pickle.load(open('randomforest.pkl', 'rb'))"
   ]
  },
  {
   "cell_type": "code",
   "execution_count": 117,
   "id": "de4f82b9-3a11-4757-bb8e-63894c71997e",
   "metadata": {
    "tags": []
   },
   "outputs": [],
   "source": [
    "scaler = pickle.load(open('scaler.pkl', 'rb'))"
   ]
  },
  {
   "cell_type": "code",
   "execution_count": 134,
   "id": "47820dc7-3469-407b-95c7-0ca23b932b6a",
   "metadata": {
    "tags": []
   },
   "outputs": [
    {
     "name": "stderr",
     "output_type": "stream",
     "text": [
      "C:\\Users\\shree\\AppData\\Roaming\\Python\\Python311\\site-packages\\sklearn\\base.py:465: UserWarning: X does not have valid feature names, but StandardScaler was fitted with feature names\n",
      "  warnings.warn(\n"
     ]
    }
   ],
   "source": [
    "new_data=scaler.transform([[20000, 1, 1, 1, 24, 2, 2, 2, 2, 2, 2, 15376, 18010, 17428, 18338, 17905, 19104, 3200, 0, 1500, 0, 1650, 0]])"
   ]
  },
  {
   "cell_type": "code",
   "execution_count": 135,
   "id": "46eb18c8-e148-410d-815b-c1794c6641e1",
   "metadata": {
    "tags": []
   },
   "outputs": [
    {
     "data": {
      "text/plain": [
       "array([[-1.10075091, -1.02031705, -1.6450549 , -0.88799758, -1.32918987,\n",
       "         1.93176557,  1.92891156,  1.98851757,  2.12235675,  2.22652864,\n",
       "         2.196981  , -0.47928989, -0.43196031, -0.42172459, -0.38297576,\n",
       "        -0.36519825, -0.3304917 , -0.11601659, -0.24914062, -0.20062212,\n",
       "        -0.30960994, -0.18981226, -0.28880452]])"
      ]
     },
     "execution_count": 135,
     "metadata": {},
     "output_type": "execute_result"
    }
   ],
   "source": [
    "new_data"
   ]
  },
  {
   "cell_type": "code",
   "execution_count": 136,
   "id": "3b3d94ae-8025-4c9a-9b3f-96165c6974f2",
   "metadata": {
    "tags": []
   },
   "outputs": [
    {
     "name": "stderr",
     "output_type": "stream",
     "text": [
      "C:\\Users\\shree\\AppData\\Roaming\\Python\\Python311\\site-packages\\sklearn\\base.py:465: UserWarning: X does not have valid feature names, but RandomForestClassifier was fitted with feature names\n",
      "  warnings.warn(\n"
     ]
    }
   ],
   "source": [
    "ans=model.predict(new_data)"
   ]
  },
  {
   "cell_type": "code",
   "execution_count": 137,
   "id": "9c84b1c7-4581-4d0e-a36d-d305b180e8fd",
   "metadata": {
    "tags": []
   },
   "outputs": [
    {
     "data": {
      "text/plain": [
       "1"
      ]
     },
     "execution_count": 137,
     "metadata": {},
     "output_type": "execute_result"
    }
   ],
   "source": [
    "ans[0]"
   ]
  },
  {
   "cell_type": "code",
   "execution_count": null,
   "id": "410f8308-e6ea-4c0c-8eac-776d80e77724",
   "metadata": {},
   "outputs": [],
   "source": []
  },
  {
   "cell_type": "code",
   "execution_count": null,
   "id": "b4b1267e-6976-48c7-8a9e-1425fff98db4",
   "metadata": {},
   "outputs": [],
   "source": []
  },
  {
   "cell_type": "code",
   "execution_count": null,
   "id": "7efe1cfe-7b79-4df5-8701-468c308cabf1",
   "metadata": {},
   "outputs": [],
   "source": []
  },
  {
   "cell_type": "code",
   "execution_count": null,
   "id": "53f8e92c-bf0a-4d31-b9ba-50b7ebc1aeb4",
   "metadata": {},
   "outputs": [],
   "source": []
  },
  {
   "cell_type": "code",
   "execution_count": null,
   "id": "a3b5cf64-2e9e-4eef-9e76-5f07b78b1a7c",
   "metadata": {},
   "outputs": [],
   "source": []
  },
  {
   "cell_type": "code",
   "execution_count": null,
   "id": "f59d0aa8-d61b-41cf-87d8-a25200462b97",
   "metadata": {},
   "outputs": [],
   "source": []
  },
  {
   "cell_type": "code",
   "execution_count": null,
   "id": "5fd812f3-52df-4b42-a6de-a6dc7071227d",
   "metadata": {},
   "outputs": [],
   "source": []
  },
  {
   "cell_type": "code",
   "execution_count": null,
   "id": "15e93e22-349c-4e2c-8de0-5ce9241b3445",
   "metadata": {},
   "outputs": [],
   "source": []
  },
  {
   "cell_type": "code",
   "execution_count": null,
   "id": "f7d9e862-469e-41a0-8f61-857ff17938d3",
   "metadata": {},
   "outputs": [],
   "source": []
  },
  {
   "cell_type": "code",
   "execution_count": null,
   "id": "3f4e34e4-8eea-46ad-b78e-1c61e9781734",
   "metadata": {},
   "outputs": [],
   "source": []
  },
  {
   "cell_type": "code",
   "execution_count": null,
   "id": "ea18f64b-82db-481d-895e-b13dba3e466d",
   "metadata": {},
   "outputs": [],
   "source": []
  },
  {
   "cell_type": "code",
   "execution_count": null,
   "id": "50df309a-0bc1-4730-b563-d24377f1221c",
   "metadata": {},
   "outputs": [],
   "source": []
  },
  {
   "cell_type": "code",
   "execution_count": null,
   "id": "d7812610-f88c-4e15-b38b-cbe6d900e17b",
   "metadata": {},
   "outputs": [],
   "source": []
  },
  {
   "cell_type": "code",
   "execution_count": null,
   "id": "98712f20-fec5-4617-b78b-f6d58ba54580",
   "metadata": {},
   "outputs": [],
   "source": []
  },
  {
   "cell_type": "code",
   "execution_count": null,
   "id": "596f5194-25be-41c2-952c-0509211c7b8f",
   "metadata": {},
   "outputs": [],
   "source": []
  },
  {
   "cell_type": "code",
   "execution_count": null,
   "id": "ea7d5ccc-866d-4abd-963c-d3bf0cccd7d4",
   "metadata": {},
   "outputs": [],
   "source": []
  },
  {
   "cell_type": "code",
   "execution_count": null,
   "id": "72c48f6f-b2ab-4957-a60b-8cb36deedb46",
   "metadata": {},
   "outputs": [],
   "source": []
  },
  {
   "cell_type": "code",
   "execution_count": null,
   "id": "ac4ccf25-5821-4db4-91fc-317d66208906",
   "metadata": {},
   "outputs": [],
   "source": []
  },
  {
   "cell_type": "code",
   "execution_count": null,
   "id": "6fa10460-547d-4913-94be-0fb3beccbae5",
   "metadata": {},
   "outputs": [],
   "source": []
  },
  {
   "cell_type": "code",
   "execution_count": null,
   "id": "7f410401-3e62-4535-b22a-48ee73d7d4d7",
   "metadata": {},
   "outputs": [],
   "source": []
  },
  {
   "cell_type": "code",
   "execution_count": null,
   "id": "1875ecd0-7ff7-4f6d-9e52-de265c07731e",
   "metadata": {},
   "outputs": [],
   "source": []
  },
  {
   "cell_type": "code",
   "execution_count": null,
   "id": "b87c081e-2320-4339-b48c-7df04f3ddaca",
   "metadata": {},
   "outputs": [],
   "source": []
  },
  {
   "cell_type": "code",
   "execution_count": null,
   "id": "f5811c7f-98ae-4060-82f5-5baf74071969",
   "metadata": {},
   "outputs": [],
   "source": []
  },
  {
   "cell_type": "code",
   "execution_count": null,
   "id": "2f603642-26bf-4aa1-950f-3cc2fe270ceb",
   "metadata": {},
   "outputs": [],
   "source": []
  }
 ],
 "metadata": {
  "kernelspec": {
   "display_name": "Python 3 (ipykernel)",
   "language": "python",
   "name": "python3"
  },
  "language_info": {
   "codemirror_mode": {
    "name": "ipython",
    "version": 3
   },
   "file_extension": ".py",
   "mimetype": "text/x-python",
   "name": "python",
   "nbconvert_exporter": "python",
   "pygments_lexer": "ipython3",
   "version": "3.11.3"
  }
 },
 "nbformat": 4,
 "nbformat_minor": 5
}
